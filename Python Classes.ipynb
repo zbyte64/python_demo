{
 "cells": [
  {
   "cell_type": "code",
   "execution_count": 1,
   "metadata": {
    "collapsed": true
   },
   "outputs": [],
   "source": [
    "\n",
    "class Pet(object):\n",
    "    def __init__(self, name, species):\n",
    "        self.name = name\n",
    "        self.species = species\n",
    "    \n",
    "    def __str__(self):\n",
    "        return \"%s is a %s\" % (self.name, self.species)\n",
    "     \n",
    "    def __repr__(self):\n",
    "        return \"Pet (%s, %s)\" % (self.name, self.species)"
   ]
  },
  {
   "cell_type": "code",
   "execution_count": 3,
   "metadata": {
    "collapsed": false
   },
   "outputs": [
    {
     "name": "stdout",
     "output_type": "stream",
     "text": [
      "Shadow is a cat\n"
     ]
    }
   ],
   "source": [
    "as_string = str(Pet('Shadow', 'cat'))\n",
    "print(as_string)"
   ]
  },
  {
   "cell_type": "code",
   "execution_count": 4,
   "metadata": {
    "collapsed": false
   },
   "outputs": [
    {
     "data": {
      "text/plain": [
       "<__main__.Pet at 0x7f6c540b00f0>"
      ]
     },
     "execution_count": 4,
     "metadata": {},
     "output_type": "execute_result"
    }
   ],
   "source": [
    "Pet('Shadow', 'cat')"
   ]
  },
  {
   "cell_type": "code",
   "execution_count": null,
   "metadata": {
    "collapsed": true
   },
   "outputs": [],
   "source": [
    "def play_again():\n",
    "    response = input('Do you want to play again? (y/N) ')\n",
    "    if response:\n",
    "        return response.lower()[0] == 'y'\n",
    "    else:\n",
    "        print('Sorry to see you go')\n",
    "        return False\n",
    "\n",
    "\n",
    "class Blackjack(object):\n",
    "    def __init__(self):\n",
    "        self.score = 0\n",
    "        self.cards_dealt = list()\n",
    "    \n",
    "    def hit(self):\n",
    "        pass #TODO add card to cards_dealt\n",
    "    \n",
    "    @property\n",
    "    def bust(self):\n",
    "        return self.score > 21\n",
    "    \n",
    "games = list()\n",
    "\n",
    "while play_again():\n",
    "    game = Blackjack()\n",
    "    #do game stuff here\n",
    "    if game.bust:\n",
    "        continue\n",
    "    print('Game score:', game.score)\n",
    "    games.append(game)\n",
    "\n",
    "print(\"Game hitory\")\n",
    "pprint(games)\n",
    "\n"
   ]
  },
  {
   "cell_type": "code",
   "execution_count": 15,
   "metadata": {
    "collapsed": false
   },
   "outputs": [
    {
     "name": "stdout",
     "output_type": "stream",
     "text": [
      "Animal __new__ <class '__main__.Animal'>\n"
     ]
    },
    {
     "data": {
      "text/plain": [
       "__main__.Animal"
      ]
     },
     "execution_count": 15,
     "metadata": {},
     "output_type": "execute_result"
    }
   ],
   "source": [
    "class Animal(object):\n",
    "    def __new__(cls):\n",
    "        print(\"Animal __new__\", cls)\n",
    "        return cls\n",
    "    \n",
    "    def __getattr__(self, attr):\n",
    "        print(\"Animal __getattr__\", attr)\n",
    "        return super(Animal, self).__getattr__(self, attr)\n",
    "    \n",
    "    def __setattr__(self, attr, value):\n",
    "        print(\"Animal __setattr__\", attr, value)\n",
    "        return None\n",
    "    \n",
    "    def __delattr__(self, attr):\n",
    "        print(\"Animal __delattr__\", attr)\n",
    "        return None\n",
    "\n",
    "Animal()"
   ]
  },
  {
   "cell_type": "code",
   "execution_count": 16,
   "metadata": {
    "collapsed": false
   },
   "outputs": [
    {
     "name": "stdout",
     "output_type": "stream",
     "text": [
      "Animal __new__ <class '__main__.Animal'>\n"
     ]
    }
   ],
   "source": [
    "bat = Animal()\n",
    "#bat.foo #getattr\n",
    "bat.foo = 'foobar' #setattr\n",
    "del bat.foo #delattr\n"
   ]
  },
  {
   "cell_type": "code",
   "execution_count": null,
   "metadata": {
    "collapsed": true
   },
   "outputs": [],
   "source": []
  }
 ],
 "metadata": {
  "kernelspec": {
   "display_name": "Python 3",
   "language": "python",
   "name": "python3"
  },
  "language_info": {
   "codemirror_mode": {
    "name": "ipython",
    "version": 3
   },
   "file_extension": ".py",
   "mimetype": "text/x-python",
   "name": "python",
   "nbconvert_exporter": "python",
   "pygments_lexer": "ipython3",
   "version": "3.5.2"
  }
 },
 "nbformat": 4,
 "nbformat_minor": 2
}
