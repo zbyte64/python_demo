{
 "cells": [
  {
   "cell_type": "code",
   "execution_count": 8,
   "metadata": {
    "collapsed": true
   },
   "outputs": [],
   "source": [
    "\n",
    "class Sprite(object):\n",
    "    def move(self, direction):\n",
    "        self.position = self.position[0] + direction[0], self.position[1] + direction[1]\n",
    "    \n",
    "    def collides_with(self, other):\n",
    "        return self.position == other.position\n",
    "\n",
    "    \n",
    "class Ghost(Sprite):\n",
    "    def __init__(self, name):\n",
    "        self.name = name\n",
    "        self.vulnerable = False\n",
    "        self.position = (10, 10)\n",
    "        self.alive = True\n",
    "    \n",
    "    def dies(self):\n",
    "        assert self.vulnerable\n",
    "        self.alive = False\n",
    "        self.set_respawn_counter()\n",
    "    \n",
    "    def eats_packman(self):\n",
    "        assert not self.vulnerable\n",
    "    \n",
    "    def set_respawn_counter(self):\n",
    "        pass #TODO set a timer\n",
    "        \n",
    "\n",
    "class Packman(Sprite):\n",
    "    def __init__(self):\n",
    "        self.lives = 3\n",
    "        self.position = (10, 20)\n",
    "        self.score = 0\n",
    "        \n",
    "    def eat_power_up(self):\n",
    "        self.score += 10\n",
    "    \n",
    "    def eats_ghost(self):\n",
    "        self.score += 20\n",
    "    \n",
    "    def dies(self):\n",
    "        self.lives -= 1\n",
    "        \n",
    "\n",
    "class Maze(object):\n",
    "    '''\n",
    "    Tracks the sprites and sends them updates\n",
    "    '''\n",
    "    def __init__(self):\n",
    "        self.player = Packman()\n",
    "        self.ghosts = [\n",
    "            Ghost('inky'),\n",
    "            Ghost('blinky'),\n",
    "            Ghost('pinky'),\n",
    "            Ghost('clyde'),\n",
    "        ]\n",
    "    \n",
    "    def move(self, direction):\n",
    "        self.player.move(direction)\n",
    "        for ghost in self.ghosts:\n",
    "            #TODO ghost.random_move()\n",
    "            if self.player.collides_with(ghost):\n",
    "                if ghost.vulnerable:\n",
    "                    ghost.dies()\n",
    "                    self.player.eats_ghost()\n",
    "                else:\n",
    "                    ghost.eats_packman()\n",
    "                    self.player.dies()\n",
    "                    return\n",
    "            \n",
    "    "
   ]
  },
  {
   "cell_type": "code",
   "execution_count": 9,
   "metadata": {
    "collapsed": false
   },
   "outputs": [
    {
     "name": "stdout",
     "output_type": "stream",
     "text": [
      "(10, 10)\n",
      "2\n"
     ]
    }
   ],
   "source": [
    "game = Maze()\n",
    "game.move((0, -10))\n",
    "print(game.player.position)\n",
    "print(game.player.lives)"
   ]
  },
  {
   "cell_type": "code",
   "execution_count": null,
   "metadata": {
    "collapsed": true
   },
   "outputs": [],
   "source": []
  }
 ],
 "metadata": {
  "kernelspec": {
   "display_name": "Python 3",
   "language": "python",
   "name": "python3"
  },
  "language_info": {
   "codemirror_mode": {
    "name": "ipython",
    "version": 3
   },
   "file_extension": ".py",
   "mimetype": "text/x-python",
   "name": "python",
   "nbconvert_exporter": "python",
   "pygments_lexer": "ipython3",
   "version": "3.5.2"
  }
 },
 "nbformat": 4,
 "nbformat_minor": 2
}
